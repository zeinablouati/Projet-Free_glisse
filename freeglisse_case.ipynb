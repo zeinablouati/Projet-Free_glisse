{
 "cells": [
  {
   "cell_type": "markdown",
   "metadata": {
    "id": "sciftETRelaO"
   },
   "source": [
    "## Case study: étude de l'offre et du positionnement de Freeglisse\n",
    "\n"
   ]
  },
  {
   "cell_type": "markdown",
   "metadata": {
    "id": "3jC9_O9EelaO"
   },
   "source": [
    "**_Contexte_**\n",
    "\n",
    "Olist aimerait désormais **augmenter son offre sur le segment du sport**, en incitant des marketplaces d'articles de sport à rejoindre la plateforme. Pour affiner sa stratégie vis-à-vis de ce type de vendeurs, Olist a besoin **d'analyser leur offre et leur positionnement**, pour mieux connaitre le marché sur lequel ils évoluent.\n",
    "\n",
    "En particulier, les Sales d'Olist s'intéressent à **FreeGlisse**, une plateforme de vente en ligne de matériel de ski d'occasion. Leur objectif est d'emmagasiner le plus d’informations possibles à partir de ce que FreeGlisse affiche sur son site web.\n",
    "<br><br>\n",
    "\n",
    "**_Instructions_**\n",
    "\n",
    "Olist voudrait se concentrer dans un premier temps sur le segment des **skis**. Les informations à étudier incluent : **le nombre d'annonces sur les skis**, les **prix** pratiqués, la **répartition de l’offre entre les différentes sous-catégories**, eventuellement la **profondeur des stocks** (= le nombre de produits disponibles, ou le nombre de tailles disponibles par produit), et tout ce que vous pensez qui serait **intéressant pour analyser le positionnement marché de FreeGlisse**.\n",
    "\n",
    "Ces informations seraient d’autant plus intéressantes si elles étaient étudiées **par type de ski** (indiqué dans la Fiche Technique de chaque ski). N'hésitez pas à effectuer les regroupements qui vous semblent pertinents, à faire des analyses quantitatives et qualitatives, en utilisant **pandas** et en faisant de beaux **graphiques**. Pour les graphiques, vous utiliserez **Power BI**.\n",
    "\n",
    "Côté technique, 2 compétences pourront être mises en oeuvre: le **crawling** entre les différentes pages du site, pour observer l’ensemble des offres de skis d’occasion, et le **scraping des pages individuelles**, avec différentes infos à aller chercher.\n",
    "\n",
    "Pour finir, l'objectif de ce cas est aussi de tirer de ces analyses des **insights business**, en particulier des **conclusions sur le positionnement commercial de FreeGlisse et les spécificités qu'il pourrait apporter à Olist**.\n",
    "<br><br>\n",
    "\n",
    "**_Présentation_**\n",
    "\n",
    "Vous devrez **analyser les informations issues du scraping**, puis en fin de projet **présenter en environ 5 minutes** votre analyse à des Product Managers. L'essentiel est que la présentation soit **visuelle et intelligible par des stakeholders non-tech**."
   ]
  },
  {
   "cell_type": "markdown",
   "metadata": {},
   "source": [
    "La liste des informations à récupérer est la suivante : \n",
    "\n",
    "    ## Informations génériques\n",
    "    name\n",
    "    price_valid_date\n",
    "    available\n",
    "    reg_price\n",
    "    current_price\n",
    "    cats\n",
    "    ref\n",
    "    color\n",
    "    brand\n",
    "    desc \n",
    "    \n",
    "    ## Informations sur les qualités/tailles\n",
    "    quality\n",
    "    size\n",
    "    \n",
    "    ## Meta-infos\n",
    "    weight\n",
    "    weight_type\n",
    "    img\n",
    "    pretax_price\n",
    "    \n",
    "    ## Encadré product-features\n",
    "    type\n",
    "    user\n",
    "    level\n",
    "    co2\n",
    "    product_type\n",
    "    \n",
    "    ## Informations sur le scraping\n",
    "    page_has_issues\n",
    "    \n",
    "    ## Informations sur les notes données\n",
    "    review\n",
    "    rating\n",
    "    nb_rating\n",
    "    nb_1\n",
    "    nb_2\n",
    "    nb_3\n",
    "    nb_4\n",
    "    nb_5\n",
    "    "
   ]
  },
  {
   "cell_type": "code",
   "execution_count": null,
   "metadata": {
    "id": "Lce1qixBelaP"
   },
   "outputs": [],
   "source": []
  },
  {
   "cell_type": "markdown",
   "metadata": {
    "id": "XnAv0Oh8elaP"
   },
   "source": [
    "## Bonus: stocks"
   ]
  },
  {
   "cell_type": "markdown",
   "metadata": {},
   "source": [
    "Vous avez pu récupérer les données du catalogue produits de Freeglisse, mais Olist vous demande un état des lieux des stocks. Récupérez donc le stock par produit par taille par qualité. "
   ]
  },
  {
   "cell_type": "code",
   "execution_count": null,
   "metadata": {
    "id": "Vg0r5tvDelaP"
   },
   "outputs": [],
   "source": []
  }
 ],
 "metadata": {
  "colab": {
   "provenance": []
  },
  "hide_input": false,
  "kernelspec": {
   "display_name": "Python 3",
   "language": "python",
   "name": "python3"
  },
  "language_info": {
   "codemirror_mode": {
    "name": "ipython",
    "version": 3
   },
   "file_extension": ".py",
   "mimetype": "text/x-python",
   "name": "python",
   "nbconvert_exporter": "python",
   "pygments_lexer": "ipython3",
   "version": "3.9.1"
  },
  "toc": {
   "base_numbering": 1,
   "nav_menu": {},
   "number_sections": true,
   "sideBar": true,
   "skip_h1_title": false,
   "title_cell": "Table of Contents",
   "title_sidebar": "Contents",
   "toc_cell": false,
   "toc_position": {},
   "toc_section_display": true,
   "toc_window_display": true
  },
  "varInspector": {
   "cols": {
    "lenName": 16,
    "lenType": 16,
    "lenVar": 40
   },
   "kernels_config": {
    "python": {
     "delete_cmd_postfix": "",
     "delete_cmd_prefix": "del ",
     "library": "var_list.py",
     "varRefreshCmd": "print(var_dic_list())"
    },
    "r": {
     "delete_cmd_postfix": ") ",
     "delete_cmd_prefix": "rm(",
     "library": "var_list.r",
     "varRefreshCmd": "cat(var_dic_list()) "
    }
   },
   "types_to_exclude": [
    "module",
    "function",
    "builtin_function_or_method",
    "instance",
    "_Feature"
   ],
   "window_display": false
  }
 },
 "nbformat": 4,
 "nbformat_minor": 0
}

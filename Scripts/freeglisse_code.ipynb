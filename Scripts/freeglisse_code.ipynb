{
 "cells": [
  {
   "cell_type": "markdown",
   "metadata": {},
   "source": [
    "# Scraping DCG.media"
   ]
  },
  {
   "cell_type": "code",
   "execution_count": 87,
   "metadata": {},
   "outputs": [],
   "source": [
    "### SCRAPING\n",
    "import requests as rq\n",
    "from bs4 import BeautifulSoup\n",
    "\n",
    "### DATABASES\n",
    "import pandas as pd\n",
    "import numpy as np\n",
    "from ydata_profiling import ProfileReport\n",
    "\n",
    "### VISUALISATION\n",
    "#import plotly.express as px\n",
    "\n",
    "### DIVERS\n",
    "from tqdm import tqdm\n",
    "\n",
    "### FORMAT\n",
    "from datetime import datetime, timezone\n",
    "import time\n",
    "import json"
   ]
  },
  {
   "cell_type": "markdown",
   "metadata": {},
   "source": [
    "## Définition des variables"
   ]
  },
  {
   "cell_type": "code",
   "execution_count": 88,
   "metadata": {},
   "outputs": [],
   "source": [
    "website = 'freeglisse'\n",
    "abbr = 'freeglisse'\n",
    "tld = '.com'"
   ]
  },
  {
   "cell_type": "code",
   "execution_count": 89,
   "metadata": {},
   "outputs": [],
   "source": [
    "page_number = 1\n",
    "top_url = f'https://www.{website+tld}/fr/12-ski-occasion'\n",
    "top_search_url = f'{top_url}?page={page_number}'"
   ]
  },
  {
   "cell_type": "markdown",
   "metadata": {},
   "source": [
    "## Définition des fonctions"
   ]
  },
  {
   "cell_type": "markdown",
   "metadata": {},
   "source": [
    "### Obtenir le nombre de pages de résultats de recherche"
   ]
  },
  {
   "cell_type": "code",
   "execution_count": 90,
   "metadata": {},
   "outputs": [
    {
     "data": {
      "text/plain": [
       "36"
      ]
     },
     "execution_count": 90,
     "metadata": {},
     "output_type": "execute_result"
    }
   ],
   "source": [
    "def get_max_page_results(top_search_url):\n",
    "    r = rq.get(top_search_url)\n",
    "    soup = BeautifulSoup(r.content)\n",
    "    page_final = soup.find_all('a', class_ = 'js-search-link')\n",
    "\n",
    "    return int(page_final[-2].text)\n",
    "get_max_page_results(top_search_url)"
   ]
  },
  {
   "cell_type": "markdown",
   "metadata": {},
   "source": [
    "### Obtenir la liste des pages de résultats de recherche"
   ]
  },
  {
   "cell_type": "code",
   "execution_count": 91,
   "metadata": {},
   "outputs": [
    {
     "data": {
      "text/plain": [
       "['https://www.freeglisse.com/fr/12-ski-occasion?page=1',\n",
       " 'https://www.freeglisse.com/fr/12-ski-occasion?page=2',\n",
       " 'https://www.freeglisse.com/fr/12-ski-occasion?page=3',\n",
       " 'https://www.freeglisse.com/fr/12-ski-occasion?page=4',\n",
       " 'https://www.freeglisse.com/fr/12-ski-occasion?page=5',\n",
       " 'https://www.freeglisse.com/fr/12-ski-occasion?page=6',\n",
       " 'https://www.freeglisse.com/fr/12-ski-occasion?page=7',\n",
       " 'https://www.freeglisse.com/fr/12-ski-occasion?page=8',\n",
       " 'https://www.freeglisse.com/fr/12-ski-occasion?page=9',\n",
       " 'https://www.freeglisse.com/fr/12-ski-occasion?page=10',\n",
       " 'https://www.freeglisse.com/fr/12-ski-occasion?page=11',\n",
       " 'https://www.freeglisse.com/fr/12-ski-occasion?page=12',\n",
       " 'https://www.freeglisse.com/fr/12-ski-occasion?page=13',\n",
       " 'https://www.freeglisse.com/fr/12-ski-occasion?page=14',\n",
       " 'https://www.freeglisse.com/fr/12-ski-occasion?page=15',\n",
       " 'https://www.freeglisse.com/fr/12-ski-occasion?page=16',\n",
       " 'https://www.freeglisse.com/fr/12-ski-occasion?page=17',\n",
       " 'https://www.freeglisse.com/fr/12-ski-occasion?page=18',\n",
       " 'https://www.freeglisse.com/fr/12-ski-occasion?page=19',\n",
       " 'https://www.freeglisse.com/fr/12-ski-occasion?page=20',\n",
       " 'https://www.freeglisse.com/fr/12-ski-occasion?page=21',\n",
       " 'https://www.freeglisse.com/fr/12-ski-occasion?page=22',\n",
       " 'https://www.freeglisse.com/fr/12-ski-occasion?page=23',\n",
       " 'https://www.freeglisse.com/fr/12-ski-occasion?page=24',\n",
       " 'https://www.freeglisse.com/fr/12-ski-occasion?page=25',\n",
       " 'https://www.freeglisse.com/fr/12-ski-occasion?page=26',\n",
       " 'https://www.freeglisse.com/fr/12-ski-occasion?page=27',\n",
       " 'https://www.freeglisse.com/fr/12-ski-occasion?page=28',\n",
       " 'https://www.freeglisse.com/fr/12-ski-occasion?page=29',\n",
       " 'https://www.freeglisse.com/fr/12-ski-occasion?page=30',\n",
       " 'https://www.freeglisse.com/fr/12-ski-occasion?page=31',\n",
       " 'https://www.freeglisse.com/fr/12-ski-occasion?page=32',\n",
       " 'https://www.freeglisse.com/fr/12-ski-occasion?page=33',\n",
       " 'https://www.freeglisse.com/fr/12-ski-occasion?page=34',\n",
       " 'https://www.freeglisse.com/fr/12-ski-occasion?page=35',\n",
       " 'https://www.freeglisse.com/fr/12-ski-occasion?page=36']"
      ]
     },
     "execution_count": 91,
     "metadata": {},
     "output_type": "execute_result"
    }
   ],
   "source": [
    "def get_all_results_pages(page_final):\n",
    "    urls = []\n",
    "    for i in range(page_final):\n",
    "        i = f'{top_url}?page={i+1}'\n",
    "        urls.append(i)\n",
    "    return urls\n",
    "get_all_results_pages(get_max_page_results(top_search_url))"
   ]
  },
  {
   "cell_type": "markdown",
   "metadata": {},
   "source": [
    "### Obtenir tous les liens des articles sur une page de recherche"
   ]
  },
  {
   "cell_type": "code",
   "execution_count": 92,
   "metadata": {},
   "outputs": [],
   "source": [
    "def get_articles_on_page(search_results):\n",
    "    urls_articles = []\n",
    "    s = rq.Session()\n",
    "    for p in tqdm(search_results):\n",
    "        r = s.get(p)\n",
    "        soup = BeautifulSoup(r.content)\n",
    "        articles = soup.find_all('h2', class_ = 'h3 product-title')\n",
    "        for article in articles:\n",
    "            url = article.find('a', href=True)['href']\n",
    "            urls_articles.append(url)\n",
    "    return urls_articles"
   ]
  },
  {
   "cell_type": "code",
   "execution_count": 93,
   "metadata": {},
   "outputs": [
    {
     "name": "stderr",
     "output_type": "stream",
     "text": [
      "100%|██████████| 36/36 [00:40<00:00,  1.12s/it]\n"
     ]
    }
   ],
   "source": [
    "all=get_articles_on_page(get_all_results_pages(get_max_page_results(top_search_url)))"
   ]
  },
  {
   "cell_type": "code",
   "execution_count": 94,
   "metadata": {},
   "outputs": [
    {
     "name": "stdout",
     "output_type": "stream",
     "text": [
      "844\n"
     ]
    }
   ],
   "source": [
    "print(len(all))"
   ]
  },
  {
   "cell_type": "markdown",
   "metadata": {},
   "source": [
    "### Récupérer les infos qu'on souhaite sur chaque article"
   ]
  },
  {
   "cell_type": "code",
   "execution_count": 95,
   "metadata": {},
   "outputs": [],
   "source": [
    "import pandas as pd\n",
    "from bs4 import BeautifulSoup\n",
    "\n",
    "def get_article_info(r, url_article):\n",
    "    soup = BeautifulSoup(r.content, 'lxml')\n",
    "    \n",
    "    # Initialiser les données avec des valeurs par défaut\n",
    "    data = {\n",
    "        \"url\": url_article,\n",
    "        \"name\": None,\n",
    "        \"price_valid_date\": None,\n",
    "        \"available\": None,\n",
    "        \"reg_price\": None,\n",
    "        \"current_price\": None,\n",
    "        \"cats\": None,\n",
    "        \"ref\": None,\n",
    "        \"color\": None,\n",
    "        \"brand\": None,\n",
    "        \"desc\": None,\n",
    "        \"quality\": None,\n",
    "        \"size\": None,\n",
    "        \"weight\": None,\n",
    "        \"weight_type\": None,\n",
    "        \"img\": None,\n",
    "        \"pretax_price\": None,\n",
    "        \"type\": None,\n",
    "        \"user\": None,\n",
    "        \"level\": None,\n",
    "        \"co2\": None,\n",
    "        \"product_type\": None,\n",
    "        \"page_has_issues\": False,\n",
    "        \"review\": None,\n",
    "        \"rating\": None,\n",
    "        \"nb_rating\": None,\n",
    "        \"nb_1\": None,\n",
    "        \"nb_2\": None,\n",
    "        \"nb_3\": None,\n",
    "        \"nb_4\": None,\n",
    "        \"nb_5\": None\n",
    "    }\n",
    "\n",
    "    try:\n",
    "        data[\"name\"] = soup.find(\"title\").text\n",
    "    except:\n",
    "        data[\"page_has_issues\"] = True\n",
    "\n",
    "    try:\n",
    "        data[\"price_valid_date\"] = None\n",
    "    except:\n",
    "        data[\"page_has_issues\"] = True\n",
    "\n",
    "    try:\n",
    "        data[\"available\"] = soup.find(\"span\", {\"id\": \"availability_message\"}).text.strip()\n",
    "    except:\n",
    "        data[\"page_has_issues\"] = True\n",
    "\n",
    "    try:\n",
    "        data[\"reg_price\"] = None\n",
    "    except:\n",
    "        data[\"page_has_issues\"] = True\n",
    "\n",
    "    try:\n",
    "        data[\"current_price\"] = float(soup.find(\"span\", {\"class\": \"current-price-value\"})[\"content\"])\n",
    "    except:\n",
    "        data[\"page_has_issues\"] = True\n",
    "\n",
    "    try:\n",
    "        data[\"cats\"] =  \", \".join([cat.text.strip() for cat in soup.find_all(\"span\", {\"class\": \"rb-items\"})])\n",
    "    except:\n",
    "        data[\"page_has_issues\"] = True\n",
    "\n",
    "    try:\n",
    "        data[\"ref\"] = soup.find(\"meta\", {\"property\": \"product:sku\"})[\"content\"]\n",
    "    except:\n",
    "        data[\"page_has_issues\"] = True\n",
    "\n",
    "    try:\n",
    "        data[\"color\"] = None  # La couleur n'est pas clairement spécifiée dans l'exemple\n",
    "    except:\n",
    "        data[\"page_has_issues\"] = True\n",
    "\n",
    "    try:\n",
    "        data[\"brand\"] = soup.find(\"meta\", {\"property\": \"product:brand\"})[\"content\"]\n",
    "    except:\n",
    "        data[\"page_has_issues\"] = True\n",
    "\n",
    "    try:\n",
    "        data[\"desc\"] = soup.find(\"meta\", {\"property\": \"og:description\"})[\"content\"]\n",
    "    except:\n",
    "        data[\"page_has_issues\"] = True\n",
    "\n",
    "    # Qualités et tailles (ajustez les sélecteurs si nécessaires)\n",
    "    try:\n",
    "        data[\"quality\"] = None # Spécifiez un sélecteur si présent\n",
    "    except:\n",
    "        data[\"page_has_issues\"] = True\n",
    "    \n",
    "    try:\n",
    "        data[\"size\"] = None     # Spécifiez un sélecteur si présent\n",
    "    except:\n",
    "        data[\"page_has_issues\"] = True\n",
    "\n",
    "    try:\n",
    "        data[\"weight\"] = float(soup.find(\"meta\", {\"property\": \"product:weight:value\"})[\"content\"])\n",
    "    except:\n",
    "        data[\"page_has_issues\"] = True\n",
    "\n",
    "    try:\n",
    "        data[\"weight_type\"] = soup.find(\"meta\", {\"property\": \"product:weight:units\"})[\"content\"]\n",
    "    except:\n",
    "        data[\"page_has_issues\"] = True\n",
    "\n",
    "    try:\n",
    "        data[\"img\"] = soup.find(\"meta\", {\"property\": \"og:image\"})[\"content\"]\n",
    "    except:\n",
    "        data[\"page_has_issues\"] = True\n",
    "\n",
    "    try:\n",
    "        data[\"pretax_price\"] = float(soup.find(\"meta\", {\"property\": \"product:pretax_price:amount\"})[\"content\"])\n",
    "    except:\n",
    "        data[\"page_has_issues\"] = True\n",
    "\n",
    "    # Informations product-features\n",
    "    try:\n",
    "        data[\"type\"] = None\n",
    "    except:\n",
    "        data[\"page_has_issues\"] = True\n",
    "        \n",
    "    try:\n",
    "        data[\"user\"] = None\n",
    "    except:\n",
    "        data[\"page_has_issues\"] = True\n",
    "        \n",
    "    try:\n",
    "        data[\"level\"] = None\n",
    "    except:\n",
    "        data[\"page_has_issues\"] = True\n",
    "        \n",
    "    try:\n",
    "        data[\"co2\"] = None\n",
    "    except:\n",
    "        data[\"page_has_issues\"] = True\n",
    "        \n",
    "    try:\n",
    "        data[\"product_type\"] = None\n",
    "    except:\n",
    "        data[\"page_has_issues\"] = True\n",
    "\n",
    "    # Notes et évaluations\n",
    "    try:\n",
    "        data[\"review\"] = None  # Remplir si un sélecteur est défini\n",
    "        data[\"rating\"] = None  # Remplir si un sélecteur est défini\n",
    "        data[\"nb_rating\"] = None\n",
    "        for i in range(1, 6):\n",
    "            data[f\"nb_{i}\"] = None\n",
    "    except:\n",
    "        data[\"page_has_issues\"] = True\n",
    "\n",
    "    return pd.Series(data)\n"
   ]
  },
  {
   "cell_type": "markdown",
   "metadata": {},
   "source": [
    "## Fonction finale"
   ]
  },
  {
   "cell_type": "code",
   "execution_count": 96,
   "metadata": {},
   "outputs": [],
   "source": [
    "article_list = ['https://freeglisse.com/fr/ski-de-fond-occasion-alternatif-sns-profil/18974-434106-ski-de-fond-occasion-rossignol-lts-junior-fixation-sns-profil.html#/892-taille_skis-150_cm/1768-etat_du_materiel-qualite_c']"
   ]
  },
  {
   "cell_type": "markdown",
   "metadata": {},
   "source": [
    "### Fonction finale"
   ]
  },
  {
   "cell_type": "code",
   "execution_count": 97,
   "metadata": {},
   "outputs": [
    {
     "name": "stderr",
     "output_type": "stream",
     "text": [
      "Batch 1 / 1:   0%|          | 0/1 [00:00<?, ?it/s]"
     ]
    },
    {
     "name": "stderr",
     "output_type": "stream",
     "text": [
      "Batch 1 / 1: 100%|██████████| 1/1 [00:00<00:00,  1.74it/s]"
     ]
    },
    {
     "name": "stdout",
     "output_type": "stream",
     "text": [
      "Scraping terminé. Total d'articles : 1\n",
      "0.5899395942687988\n"
     ]
    },
    {
     "name": "stderr",
     "output_type": "stream",
     "text": [
      "\n"
     ]
    }
   ],
   "source": [
    "# Import des packages\n",
    "from concurrent.futures import ThreadPoolExecutor, as_completed\n",
    "import time\n",
    "\n",
    "# Initialisation du compteur\n",
    "start_time = time.time()\n",
    "\n",
    "# Fonction principale qui sauvegarde le DataFrame dans un fichier CSV et le retourne\n",
    "def scrape_all_articles(urls, batch_size=250, max_workers=20):\n",
    "    # Initialisation d'une session réutilisable\n",
    "    session = rq.Session()\n",
    "\n",
    "    # Création d'une fonction qui traite chaque URL\n",
    "    def process_url(url):\n",
    "            try:\n",
    "                r = session.get(url)\n",
    "                return get_article_info(r, url)\n",
    "            except Exception as e:\n",
    "                print(f\"Erreur pour {url}: {str(e)}\")\n",
    "                return pd.Series(name=url)\n",
    "\n",
    "    # Utilise ThreadPoolExecutor pour paralléliser le traitement\n",
    "    results = []\n",
    "    with ThreadPoolExecutor(max_workers=max_workers) as executor:\n",
    "        # Parcourt la liste d'URLs par lots de taille 'batch_size'\n",
    "        for i in range(0, len(urls), batch_size):\n",
    "            # Extrait un lot d'URLs\n",
    "            batch = urls[i:i+batch_size]\n",
    "            # Crée et soumet des tâches pour chaque URL du lot\n",
    "            futures = [executor.submit(process_url, url) for url in batch]\n",
    "            \n",
    "            # Traite les résultats au fur et à mesure qu'ils sont terminés\n",
    "            for future in tqdm(as_completed(futures), total=len(batch), desc=f\"Batch {i//batch_size + 1} / {len(urls)//batch_size+1}\"):\n",
    "                # Récupère le résultat de la tâche\n",
    "                result = future.result()\n",
    "                # Si le résultat n'est pas None (pas d'erreur), l'ajoute aux résultats\n",
    "                if result is not None:\n",
    "                    results.append(result)\n",
    "    \n",
    "    # Création du DataFrame final\n",
    "    df_final = pd.DataFrame(results)\n",
    "\n",
    "    # Ajout de colonnes calculées\n",
    "    df_final[\"website\"] = \"https://freeglisse.com\"\n",
    "    df_final[\"scraping_date\"] = pd.Timestamp.now(tz=\"UTC\")\n",
    "\n",
    "    # Définir les noms de colonnes explicitement\n",
    "    column_names = [\n",
    "        \"url\", \"name\", \"price_valid_date\", \"available\", \"reg_price\", \"current_price\",  # Informations génériques\n",
    "        \"cats\", \"ref\", \"color\", \"brand\", \"desc\",  # Catégorie et description\n",
    "        \"quality\", \"size\",  # Qualités et tailles\n",
    "        \"weight\", \"weight_type\", \"img\", \"pretax_price\",  # Meta-informations\n",
    "        \"type\", \"user\", \"level\", \"co2\", \"product_type\",  # Informations product-features\n",
    "        \"page_has_issues\",  # Problèmes de page\n",
    "        \"review\", \"rating\", \"nb_rating\",  # Informations sur les notes\n",
    "        \"nb_1\", \"nb_2\", \"nb_3\", \"nb_4\", \"nb_5\"  # Notes détaillées\n",
    "    ]\n",
    "    df_final = df_final.reindex(columns=column_names, fill_value=pd.NA)  # Réorganiser les colonnes\n",
    "\n",
    "\n",
    "    # Sauvegarde en CSV\n",
    "    df_final.to_csv(f'scraping_{abbr}.csv', sep='|', index=True)\n",
    "    print(f\"Scraping terminé. Total d'articles : {len(df_final)}\")\n",
    "    return df_final\n",
    "\n",
    "df = scrape_all_articles(article_list)\n",
    "\n",
    "end_time = time.time()\n",
    "print(end_time - start_time)"
   ]
  },
  {
   "cell_type": "code",
   "execution_count": 98,
   "metadata": {},
   "outputs": [
    {
     "data": {
      "application/vnd.jupyter.widget-view+json": {
       "model_id": "57283f5300274afda30c48fab6652d2b",
       "version_major": 2,
       "version_minor": 0
      },
      "text/plain": [
       "Summarize dataset:   0%|          | 0/5 [00:00<?, ?it/s]"
      ]
     },
     "metadata": {},
     "output_type": "display_data"
    },
    {
     "name": "stderr",
     "output_type": "stream",
     "text": [
      "c:\\Users\\MSI\\AppData\\Local\\Programs\\Python\\Python311\\Lib\\site-packages\\ydata_profiling\\model\\pandas\\summary_pandas.py:47: FutureWarning: Downcasting object dtype arrays on .fillna, .ffill, .bfill is deprecated and will change in a future version. Call result.infer_objects(copy=False) instead. To opt-in to the future behavior, set `pd.set_option('future.no_silent_downcasting', True)`\n",
      "  series = series.fillna(np.nan)\n",
      "c:\\Users\\MSI\\AppData\\Local\\Programs\\Python\\Python311\\Lib\\site-packages\\ydata_profiling\\model\\pandas\\summary_pandas.py:47: FutureWarning: Downcasting object dtype arrays on .fillna, .ffill, .bfill is deprecated and will change in a future version. Call result.infer_objects(copy=False) instead. To opt-in to the future behavior, set `pd.set_option('future.no_silent_downcasting', True)`\n",
      "  series = series.fillna(np.nan)\n",
      "c:\\Users\\MSI\\AppData\\Local\\Programs\\Python\\Python311\\Lib\\site-packages\\ydata_profiling\\model\\pandas\\summary_pandas.py:47: FutureWarning: Downcasting object dtype arrays on .fillna, .ffill, .bfill is deprecated and will change in a future version. Call result.infer_objects(copy=False) instead. To opt-in to the future behavior, set `pd.set_option('future.no_silent_downcasting', True)`\n",
      "  series = series.fillna(np.nan)\n",
      "c:\\Users\\MSI\\AppData\\Local\\Programs\\Python\\Python311\\Lib\\site-packages\\ydata_profiling\\model\\pandas\\summary_pandas.py:47: FutureWarning: Downcasting object dtype arrays on .fillna, .ffill, .bfill is deprecated and will change in a future version. Call result.infer_objects(copy=False) instead. To opt-in to the future behavior, set `pd.set_option('future.no_silent_downcasting', True)`\n",
      "  series = series.fillna(np.nan)\n",
      "c:\\Users\\MSI\\AppData\\Local\\Programs\\Python\\Python311\\Lib\\site-packages\\ydata_profiling\\model\\pandas\\summary_pandas.py:47: FutureWarning: Downcasting object dtype arrays on .fillna, .ffill, .bfill is deprecated and will change in a future version. Call result.infer_objects(copy=False) instead. To opt-in to the future behavior, set `pd.set_option('future.no_silent_downcasting', True)`\n",
      "  series = series.fillna(np.nan)\n",
      "c:\\Users\\MSI\\AppData\\Local\\Programs\\Python\\Python311\\Lib\\site-packages\\ydata_profiling\\model\\pandas\\summary_pandas.py:47: FutureWarning: Downcasting object dtype arrays on .fillna, .ffill, .bfill is deprecated and will change in a future version. Call result.infer_objects(copy=False) instead. To opt-in to the future behavior, set `pd.set_option('future.no_silent_downcasting', True)`\n",
      "  series = series.fillna(np.nan)\n",
      "c:\\Users\\MSI\\AppData\\Local\\Programs\\Python\\Python311\\Lib\\site-packages\\ydata_profiling\\model\\pandas\\summary_pandas.py:47: FutureWarning: Downcasting object dtype arrays on .fillna, .ffill, .bfill is deprecated and will change in a future version. Call result.infer_objects(copy=False) instead. To opt-in to the future behavior, set `pd.set_option('future.no_silent_downcasting', True)`\n",
      "  series = series.fillna(np.nan)\n",
      "c:\\Users\\MSI\\AppData\\Local\\Programs\\Python\\Python311\\Lib\\site-packages\\ydata_profiling\\model\\pandas\\summary_pandas.py:47: FutureWarning: Downcasting object dtype arrays on .fillna, .ffill, .bfill is deprecated and will change in a future version. Call result.infer_objects(copy=False) instead. To opt-in to the future behavior, set `pd.set_option('future.no_silent_downcasting', True)`\n",
      "  series = series.fillna(np.nan)\n",
      "c:\\Users\\MSI\\AppData\\Local\\Programs\\Python\\Python311\\Lib\\site-packages\\ydata_profiling\\model\\pandas\\summary_pandas.py:47: FutureWarning: Downcasting object dtype arrays on .fillna, .ffill, .bfill is deprecated and will change in a future version. Call result.infer_objects(copy=False) instead. To opt-in to the future behavior, set `pd.set_option('future.no_silent_downcasting', True)`\n",
      "  series = series.fillna(np.nan)\n",
      "c:\\Users\\MSI\\AppData\\Local\\Programs\\Python\\Python311\\Lib\\site-packages\\ydata_profiling\\model\\pandas\\summary_pandas.py:47: FutureWarning: Downcasting object dtype arrays on .fillna, .ffill, .bfill is deprecated and will change in a future version. Call result.infer_objects(copy=False) instead. To opt-in to the future behavior, set `pd.set_option('future.no_silent_downcasting', True)`\n",
      "  series = series.fillna(np.nan)\n",
      "c:\\Users\\MSI\\AppData\\Local\\Programs\\Python\\Python311\\Lib\\site-packages\\ydata_profiling\\model\\pandas\\summary_pandas.py:47: FutureWarning: Downcasting object dtype arrays on .fillna, .ffill, .bfill is deprecated and will change in a future version. Call result.infer_objects(copy=False) instead. To opt-in to the future behavior, set `pd.set_option('future.no_silent_downcasting', True)`\n",
      "  series = series.fillna(np.nan)\n",
      "c:\\Users\\MSI\\AppData\\Local\\Programs\\Python\\Python311\\Lib\\site-packages\\ydata_profiling\\model\\pandas\\summary_pandas.py:47: FutureWarning: Downcasting object dtype arrays on .fillna, .ffill, .bfill is deprecated and will change in a future version. Call result.infer_objects(copy=False) instead. To opt-in to the future behavior, set `pd.set_option('future.no_silent_downcasting', True)`\n",
      "  series = series.fillna(np.nan)\n",
      "c:\\Users\\MSI\\AppData\\Local\\Programs\\Python\\Python311\\Lib\\site-packages\\ydata_profiling\\model\\pandas\\summary_pandas.py:47: FutureWarning: Downcasting object dtype arrays on .fillna, .ffill, .bfill is deprecated and will change in a future version. Call result.infer_objects(copy=False) instead. To opt-in to the future behavior, set `pd.set_option('future.no_silent_downcasting', True)`\n",
      "  series = series.fillna(np.nan)\n",
      "c:\\Users\\MSI\\AppData\\Local\\Programs\\Python\\Python311\\Lib\\site-packages\\ydata_profiling\\model\\pandas\\summary_pandas.py:47: FutureWarning: Downcasting object dtype arrays on .fillna, .ffill, .bfill is deprecated and will change in a future version. Call result.infer_objects(copy=False) instead. To opt-in to the future behavior, set `pd.set_option('future.no_silent_downcasting', True)`\n",
      "  series = series.fillna(np.nan)\n",
      "c:\\Users\\MSI\\AppData\\Local\\Programs\\Python\\Python311\\Lib\\site-packages\\ydata_profiling\\model\\pandas\\summary_pandas.py:47: FutureWarning: Downcasting object dtype arrays on .fillna, .ffill, .bfill is deprecated and will change in a future version. Call result.infer_objects(copy=False) instead. To opt-in to the future behavior, set `pd.set_option('future.no_silent_downcasting', True)`\n",
      "  series = series.fillna(np.nan)\n",
      "c:\\Users\\MSI\\AppData\\Local\\Programs\\Python\\Python311\\Lib\\site-packages\\ydata_profiling\\model\\pandas\\summary_pandas.py:47: FutureWarning: Downcasting object dtype arrays on .fillna, .ffill, .bfill is deprecated and will change in a future version. Call result.infer_objects(copy=False) instead. To opt-in to the future behavior, set `pd.set_option('future.no_silent_downcasting', True)`\n",
      "  series = series.fillna(np.nan)\n",
      "c:\\Users\\MSI\\AppData\\Local\\Programs\\Python\\Python311\\Lib\\site-packages\\ydata_profiling\\model\\pandas\\summary_pandas.py:47: FutureWarning: Downcasting object dtype arrays on .fillna, .ffill, .bfill is deprecated and will change in a future version. Call result.infer_objects(copy=False) instead. To opt-in to the future behavior, set `pd.set_option('future.no_silent_downcasting', True)`\n",
      "  series = series.fillna(np.nan)\n",
      "c:\\Users\\MSI\\AppData\\Local\\Programs\\Python\\Python311\\Lib\\site-packages\\ydata_profiling\\model\\pandas\\summary_pandas.py:47: FutureWarning: Downcasting object dtype arrays on .fillna, .ffill, .bfill is deprecated and will change in a future version. Call result.infer_objects(copy=False) instead. To opt-in to the future behavior, set `pd.set_option('future.no_silent_downcasting', True)`\n",
      "  series = series.fillna(np.nan)\n",
      "c:\\Users\\MSI\\AppData\\Local\\Programs\\Python\\Python311\\Lib\\site-packages\\ydata_profiling\\model\\pandas\\summary_pandas.py:47: FutureWarning: Downcasting object dtype arrays on .fillna, .ffill, .bfill is deprecated and will change in a future version. Call result.infer_objects(copy=False) instead. To opt-in to the future behavior, set `pd.set_option('future.no_silent_downcasting', True)`\n",
      "  series = series.fillna(np.nan)\n"
     ]
    },
    {
     "data": {
      "application/vnd.jupyter.widget-view+json": {
       "model_id": "30ed13540ee04cd0b88bcaaff8a4a482",
       "version_major": 2,
       "version_minor": 0
      },
      "text/plain": [
       "Generate report structure:   0%|          | 0/1 [00:00<?, ?it/s]"
      ]
     },
     "metadata": {},
     "output_type": "display_data"
    },
    {
     "data": {
      "application/vnd.jupyter.widget-view+json": {
       "model_id": "93a6cc51dd1546b194f1d123a1493381",
       "version_major": 2,
       "version_minor": 0
      },
      "text/plain": [
       "Render HTML:   0%|          | 0/1 [00:00<?, ?it/s]"
      ]
     },
     "metadata": {},
     "output_type": "display_data"
    },
    {
     "data": {
      "application/vnd.jupyter.widget-view+json": {
       "model_id": "3eb55e4ca5884abba792286f6495e8a2",
       "version_major": 2,
       "version_minor": 0
      },
      "text/plain": [
       "Export report to file:   0%|          | 0/1 [00:00<?, ?it/s]"
      ]
     },
     "metadata": {},
     "output_type": "display_data"
    }
   ],
   "source": [
    "# Création d'un rapport de profil avec pandas_profiling\n",
    "profile = ProfileReport(df, title=f\"{abbr.title()} Scraping Report\", explorative=True)\n",
    "\n",
    "# Génération du rapport au format HTML\n",
    "profile.to_file(f\"scraping_report_{abbr}.html\")"
   ]
  }
 ],
 "metadata": {
  "kernelspec": {
   "display_name": "Python 3",
   "language": "python",
   "name": "python3"
  },
  "language_info": {
   "codemirror_mode": {
    "name": "ipython",
    "version": 3
   },
   "file_extension": ".py",
   "mimetype": "text/x-python",
   "name": "python",
   "nbconvert_exporter": "python",
   "pygments_lexer": "ipython3",
   "version": "3.11.4"
  }
 },
 "nbformat": 4,
 "nbformat_minor": 2
}
